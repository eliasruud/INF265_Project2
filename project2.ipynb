{
 "cells": [
  {
   "cell_type": "code",
   "execution_count": 122,
   "metadata": {},
   "outputs": [
    {
     "name": "stdout",
     "output_type": "stream",
     "text": [
      "Device cpu.\n"
     ]
    }
   ],
   "source": [
    "import torch\n",
    "from torch import nn, optim\n",
    "from datetime import datetime\n",
    "\n",
    "torch.manual_seed(123)\n",
    "\n",
    "device = (torch.device('cuda') if torch.cuda.is_available() else torch.device('cpu'))\n",
    "print(f\"Device {device}.\")"
   ]
  },
  {
   "cell_type": "markdown",
   "metadata": {},
   "source": [
    "# INF265 Project 2: Object Detection"
   ]
  },
  {
   "cell_type": "markdown",
   "metadata": {},
   "source": [
    "### Object localization tasks:"
   ]
  },
  {
   "cell_type": "markdown",
   "metadata": {},
   "source": [
    "Loading the data:"
   ]
  },
  {
   "cell_type": "code",
   "execution_count": 123,
   "metadata": {},
   "outputs": [],
   "source": [
    "train_path = 'data/localization_train.pt'\n",
    "val_path = 'data/localization_val.pt'\n",
    "test_path = 'data/localization_test.pt'\n",
    "\n",
    "train_data = torch.load(train_path)\n",
    "val_data = torch.load(val_path)\n",
    "test_data = torch.load(test_path)\n",
    "\n",
    "batch_size = 64\n",
    "train_loader = torch.utils.data.DataLoader(train_data, batch_size=batch_size, shuffle=False)\n",
    "val_loader = torch.utils.data.DataLoader(val_data, batch_size=batch_size, shuffle=False)\n",
    "test_loader = torch.utils.data.DataLoader(test_data, batch_size=batch_size, shuffle=False)\n",
    "\n",
    "(batch, labels) = next(iter(train_loader))"
   ]
  },
  {
   "cell_type": "code",
   "execution_count": 124,
   "metadata": {},
   "outputs": [
    {
     "name": "stdout",
     "output_type": "stream",
     "text": [
      "<class 'torch.utils.data.dataset.TensorDataset'>\n",
      "Train data size:  59400\n",
      "Val data size:  6600\n",
      "Test data size:  11000\n",
      "torch.Size([1, 48, 60])\n",
      "torch.Size([1, 48, 60])\n",
      "tensor([1., 1., 1., 1., 1., 0., 1., 1., 1., 1., 1., 0., 1., 1., 1., 1., 1., 1.,\n",
      "        1., 0., 1., 1., 1., 1., 0., 1., 1., 1., 1., 1., 1., 1., 1., 1., 1., 1.,\n",
      "        1., 1., 1., 1., 0., 1., 0., 1., 1., 1., 1., 1., 1., 1., 1., 1., 1., 1.,\n",
      "        1., 1., 1., 1., 1., 1., 1., 0., 1., 0.])\n"
     ]
    }
   ],
   "source": [
    "print(type(train_data))\n",
    "print(\"Train data size: \", len(train_data))\n",
    "print(\"Val data size: \", len(val_data))\n",
    "print(\"Test data size: \", len(test_data))\n",
    "print(train_data[0][0].shape)\n",
    "\n",
    "img= batch[0]\n",
    "print(img.shape)\n",
    "print(labels[:,0])"
   ]
  },
  {
   "cell_type": "code",
   "execution_count": 125,
   "metadata": {},
   "outputs": [
    {
     "name": "stdout",
     "output_type": "stream",
     "text": [
      "tensor(1.)\n"
     ]
    },
    {
     "data": {
      "image/png": "[encoded data removed]",
      "text/plain": [
       "<Figure size 640x480 with 1 Axes>"
      ]
     },
     "metadata": {},
     "output_type": "display_data"
    }
   ],
   "source": [
    "import matplotlib.pyplot as plt\n",
    "img1, first_label = train_data[0]\n",
    "\n",
    "plt.imshow(img1.squeeze().numpy(), cmap='gray')\n",
    "print(first_label[0])"
   ]
  },
  {
   "cell_type": "markdown",
   "metadata": {},
   "source": [
    "### My convolutional models:"
   ]
  },
  {
   "cell_type": "code",
   "execution_count": 126,
   "metadata": {},
   "outputs": [],
   "source": [
    "class MyCNN1(nn.Module):\n",
    "    \n",
    "    def __init__(self):\n",
    "        super().__init__()\n",
    "\n",
    "        self.cnn = nn.Sequential(\n",
    "\n",
    "            # Conv layer block 1\n",
    "            nn.Conv2d(in_channels=1, out_channels=32, kernel_size=3, stride=1, padding=1),\n",
    "            nn.ReLU(),\n",
    "            nn.MaxPool2d(kernel_size=2, stride=2),\n",
    "            \n",
    "            # Flatten the output to vector for the fully connected layer\n",
    "            nn.Flatten(),\n",
    "            \n",
    "            # FC layers\n",
    "            nn.Linear(32 * 24 * 30, 512),\n",
    "            nn.Linear(512, 15)  # 15 outputs, 1 Pc + 4 bounding box vars + 10 classes\n",
    "        )\n",
    "    \n",
    "    def forward(self, x):\n",
    "        return self.cnn(x)"
   ]
  },
  {
   "cell_type": "code",
   "execution_count": 127,
   "metadata": {},
   "outputs": [],
   "source": [
    "class MyCNN2(nn.Module):\n",
    "    \n",
    "    def __init__(self):\n",
    "        super().__init__()\n",
    "\n",
    "        self.cnn = nn.Sequential(\n",
    "\n",
    "            # Conv layer block 1\n",
    "            nn.Conv2d(in_channels=1, out_channels=32, kernel_size=5, stride=1, padding=2),\n",
    "            nn.ReLU(),\n",
    "            nn.MaxPool2d(kernel_size=2, stride=2),\n",
    "            \n",
    "            # Conv layer block 2\n",
    "            nn.Conv2d(in_channels=32, out_channels=64, kernel_size=3, stride=1, padding=1),\n",
    "            nn.ReLU(),\n",
    "            nn.MaxPool2d(kernel_size=2, stride=2),\n",
    "            \n",
    "            # Flatten the output to vector for the fully connected layer\n",
    "            nn.Flatten(),\n",
    "            \n",
    "            # FC layers\n",
    "            nn.Linear(64 * 12 * 15, 256),\n",
    "            nn.ReLU(),\n",
    "            nn.Linear(256, 15)  # 15 outputs, 1 Pc + 4 bounding box vars + 10 classes\n",
    "        )\n",
    "    \n",
    "    def forward(self, x):\n",
    "        return self.cnn(x)"
   ]
  },
  {
   "cell_type": "code",
   "execution_count": 128,
   "metadata": {},
   "outputs": [],
   "source": [
    "class MyCNN3(nn.Module):\n",
    "    \n",
    "    def __init__(self):\n",
    "        super().__init__()\n",
    "\n",
    "        self.cnn = nn.Sequential(\n",
    "\n",
    "            # Conv layer block 1\n",
    "            nn.Conv2d(in_channels=1, out_channels=64, kernel_size=3, stride=1, padding=1),\n",
    "            nn.ReLU(),\n",
    "            nn.MaxPool2d(kernel_size=2, stride=2),\n",
    "            \n",
    "            # Conv layer block 2\n",
    "            nn.Conv2d(in_channels=64, out_channels=128, kernel_size=3, stride=1, padding=1),\n",
    "            nn.ReLU(),\n",
    "            nn.MaxPool2d(kernel_size=2, stride=2),\n",
    "\n",
    "            # Conv layer block 3\n",
    "            nn.Conv2d(in_channels=128, out_channels=256, kernel_size=3, stride=1, padding=1),\n",
    "            nn.ReLU(),\n",
    "            nn.MaxPool2d(kernel_size=2, stride=2),\n",
    "            \n",
    "            # Flatten the output to vector for the fully connected layer\n",
    "            nn.Flatten(),\n",
    "            \n",
    "            # FC layers\n",
    "            nn.Linear(256 * 6 * 7, 512),\n",
    "            nn.ReLU(),\n",
    "            nn.Linear(512, 15)  # 15 outputs, 1 Pc + 4 bounding box vars + 10 classes\n",
    "        )\n",
    "    \n",
    "    def forward(self, x):\n",
    "        return self.cnn(x)"
   ]
  },
  {
   "cell_type": "markdown",
   "metadata": {},
   "source": [
    "Loss function"
   ]
  },
  {
   "cell_type": "code",
   "execution_count": 134,
   "metadata": {},
   "outputs": [],
   "source": [
    "# Uses different loss functions for different parts of the output.\n",
    "def localization_loss(y_pred, y_true):\n",
    "    \n",
    "    BCE_loss = nn.BCEWithLogitsLoss()\n",
    "    MSE_loss = nn.MSELoss()\n",
    "    CE_loss = nn.CrossEntropyLoss()\n",
    "\n",
    "  \n",
    "    La = BCE_loss(torch.sigmoid(y_pred[:, 0]), y_true[:, 0])      # Loss function for our detection output: 'Pc'.\n",
    "    Lb = MSE_loss(y_pred[:, 1:5], y_true[:, 1:5])                       # Loss function for our bounding box output: x, y, w, h.\n",
    "    Lc = CE_loss(y_pred[:, 5:], y_true[:, 5].long())                    # Loss function for our class output: c1, c2, c3 ... c10.\n",
    "\n",
    "    Pc = y_true[:, 0]\n",
    "    empty_tensor = torch.tensor(0.0).to(y_pred.device)\n",
    "\n",
    "    loss = La + torch.where(Pc == 1, La + Lb + Lc, empty_tensor) # Adds the Lb and Lc losses only if Pc is 1, otherwise adds the empty tensor.\n",
    "\n",
    "    return loss.mean()"
   ]
  },
  {
   "cell_type": "markdown",
   "metadata": {},
   "source": [
    "### Training"
   ]
  },
  {
   "cell_type": "code",
   "execution_count": 130,
   "metadata": {},
   "outputs": [],
   "source": [
    "def train(model, loss_fn, lr, n_epochs, train_loader): \n",
    "\n",
    "    n_batch = len(train_loader)\n",
    "    losses_train = []\n",
    "    model.train()\n",
    "    optimizer = optim.SGD(model.parameters(), lr=lr)\n",
    "\n",
    "    for epoch in range(1, n_epochs + 1):\n",
    "\n",
    "        loss_train = 0.0\n",
    "        for i, data in enumerate(train_loader):\n",
    "\n",
    "            x = data[0].to(device=device) \n",
    "            y_true = data[1].to(device=device)\n",
    "\n",
    "            optimizer.zero_grad()\n",
    "\n",
    "            y_pred = model(x)\n",
    "\n",
    "            loss = loss_fn(y_pred, y_true)\n",
    "            \n",
    "            loss.backward()\n",
    "            optimizer.step()\n",
    "\n",
    "            loss_train += loss.item()\n",
    "\n",
    "        losses_train.append(loss_train / n_batch)\n",
    "\n",
    "        print('{}  |  Epoch {} of {}  |  Training loss {:.5f}'.format(\n",
    "            datetime.now().time(), epoch, n_epochs, loss_train / n_batch))"
   ]
  },
  {
   "cell_type": "code",
   "execution_count": 29,
   "metadata": {},
   "outputs": [
    {
     "name": "stdout",
     "output_type": "stream",
     "text": [
      "----------------------------\n",
      "Currently training:  MyCNN1(\n",
      "  (cnn): Sequential(\n",
      "    (0): Conv2d(1, 32, kernel_size=(3, 3), stride=(1, 1), padding=(1, 1))\n",
      "    (1): ReLU()\n",
      "    (2): MaxPool2d(kernel_size=2, stride=2, padding=0, dilation=1, ceil_mode=False)\n",
      "    (3): Flatten(start_dim=1, end_dim=-1)\n",
      "    (4): Linear(in_features=23040, out_features=512, bias=True)\n",
      "    (5): Linear(in_features=512, out_features=15, bias=True)\n",
      "  )\n",
      ")\n",
      "----------------------------\n",
      "07:50:31.644220  |  Epoch 1  |  Training loss 2.75787\n",
      "07:52:15.070353  |  Epoch 2  |  Training loss 2.67572\n",
      "07:54:01.585544  |  Epoch 3  |  Training loss 2.59611\n",
      "07:55:46.033098  |  Epoch 4  |  Training loss 2.48041\n",
      "07:57:29.291155  |  Epoch 5  |  Training loss 2.35089\n",
      "----------------------------\n",
      "----------------------------\n",
      "\n",
      "\n",
      "\n",
      "\n",
      "----------------------------\n",
      "Currently training:  MyCNN2(\n",
      "  (cnn): Sequential(\n",
      "    (0): Conv2d(1, 32, kernel_size=(5, 5), stride=(1, 1), padding=(2, 2))\n",
      "    (1): ReLU()\n",
      "    (2): MaxPool2d(kernel_size=2, stride=2, padding=0, dilation=1, ceil_mode=False)\n",
      "    (3): Conv2d(32, 64, kernel_size=(3, 3), stride=(1, 1), padding=(1, 1))\n",
      "    (4): ReLU()\n",
      "    (5): MaxPool2d(kernel_size=2, stride=2, padding=0, dilation=1, ceil_mode=False)\n",
      "    (6): Flatten(start_dim=1, end_dim=-1)\n",
      "    (7): Linear(in_features=11520, out_features=256, bias=True)\n",
      "    (8): ReLU()\n",
      "    (9): Linear(in_features=256, out_features=15, bias=True)\n",
      "  )\n",
      ")\n",
      "----------------------------\n",
      "07:59:46.937163  |  Epoch 1  |  Training loss 2.77485\n",
      "08:02:03.121991  |  Epoch 2  |  Training loss 2.70271\n",
      "08:04:20.580925  |  Epoch 3  |  Training loss 2.55406\n",
      "08:06:36.298233  |  Epoch 4  |  Training loss 2.28421\n",
      "08:08:54.912139  |  Epoch 5  |  Training loss 2.07835\n",
      "----------------------------\n",
      "----------------------------\n",
      "\n",
      "\n",
      "\n",
      "\n",
      "----------------------------\n",
      "Currently training:  MyCNN3(\n",
      "  (cnn): Sequential(\n",
      "    (0): Conv2d(1, 64, kernel_size=(3, 3), stride=(1, 1), padding=(1, 1))\n",
      "    (1): ReLU()\n",
      "    (2): MaxPool2d(kernel_size=2, stride=2, padding=0, dilation=1, ceil_mode=False)\n",
      "    (3): Conv2d(64, 128, kernel_size=(3, 3), stride=(1, 1), padding=(1, 1))\n",
      "    (4): ReLU()\n",
      "    (5): MaxPool2d(kernel_size=2, stride=2, padding=0, dilation=1, ceil_mode=False)\n",
      "    (6): Conv2d(128, 256, kernel_size=(3, 3), stride=(1, 1), padding=(1, 1))\n",
      "    (7): ReLU()\n",
      "    (8): MaxPool2d(kernel_size=2, stride=2, padding=0, dilation=1, ceil_mode=False)\n",
      "    (9): Flatten(start_dim=1, end_dim=-1)\n",
      "    (10): Linear(in_features=10752, out_features=512, bias=True)\n",
      "    (11): ReLU()\n",
      "    (12): Linear(in_features=512, out_features=15, bias=True)\n",
      "  )\n",
      ")\n",
      "----------------------------\n",
      "08:16:23.435806  |  Epoch 1  |  Training loss 2.78902\n",
      "08:24:13.053681  |  Epoch 2  |  Training loss 2.72689\n",
      "08:31:59.842043  |  Epoch 3  |  Training loss 2.55702\n",
      "08:39:55.093867  |  Epoch 4  |  Training loss 2.20209\n",
      "08:47:46.956374  |  Epoch 5  |  Training loss 1.98072\n",
      "----------------------------\n",
      "----------------------------\n",
      "\n",
      "\n",
      "\n",
      "\n"
     ]
    }
   ],
   "source": [
    "\n",
    "models = [MyCNN1(), MyCNN2(), MyCNN3()]\n",
    "\n",
    "lr = 0.005\n",
    "n_epochs = 5\n",
    "loss_fn = localization_loss\n",
    "\n",
    "for model in models:\n",
    "    print(\"----------------------------\")\n",
    "    print(\"Currently training: \", model)\n",
    "    print(\"----------------------------\")\n",
    "    train(model, loss_fn, lr, n_epochs, train_loader)\n",
    "\n",
    "    print(\"----------------------------\")\n",
    "    print(\"----------------------------\\n\\n\\n\")\n",
    "    print()\n",
    "\n"
   ]
  },
  {
   "cell_type": "markdown",
   "metadata": {},
   "source": [
    "### Evaluation and validation"
   ]
  },
  {
   "cell_type": "code",
   "execution_count": 131,
   "metadata": {},
   "outputs": [],
   "source": [
    "def calculate_iou(pred_boxes, gt_boxes):\n",
    "\n",
    "    pred_boxes = pred_boxes.float()\n",
    "    gt_boxes = gt_boxes.float()\n",
    "    \n",
    "    # Calculate the coordinates of the intersection rectangles\n",
    "    x1 = torch.max(pred_boxes[:, 0], gt_boxes[:, 0])\n",
    "    y1 = torch.max(pred_boxes[:, 1], gt_boxes[:, 1])\n",
    "    x2 = torch.min(pred_boxes[:, 2], gt_boxes[:, 2])\n",
    "    y2 = torch.min(pred_boxes[:, 3], gt_boxes[:, 3])\n",
    "    \n",
    "    # Calculate intersection area\n",
    "    inter_area = torch.clamp(x2 - x1, min=0) * torch.clamp(y2 - y1, min=0)\n",
    "    \n",
    "    # Calculate the area of both prediction and ground truth boxes\n",
    "    pred_area = (pred_boxes[:, 2] - pred_boxes[:, 0]) * (pred_boxes[:, 3] - pred_boxes[:, 1])\n",
    "    gt_area = (gt_boxes[:, 2] - gt_boxes[:, 0]) * (gt_boxes[:, 3] - gt_boxes[:, 1])\n",
    "    \n",
    "    # Calculate the union area\n",
    "    union_area = pred_area + gt_area - inter_area\n",
    "    \n",
    "    # Calculate the IoU\n",
    "    iou = inter_area / union_area\n",
    "    \n",
    "    return iou"
   ]
  },
  {
   "cell_type": "code",
   "execution_count": 148,
   "metadata": {},
   "outputs": [
    {
     "name": "stdout",
     "output_type": "stream",
     "text": [
      "torch.Size([64, 6])\n",
      "torch.Size([6])\n",
      "tensor([ 7.2748, -0.1217,  1.9214,  5.0960,  4.9294,  2.3683,  2.0871,  3.1977,\n",
      "         2.8330,  2.6254,  2.0846,  1.8124,  3.4861,  1.7220,  4.8630,  2.3928,\n",
      "         1.4632,  4.2888,  1.0453,  2.8359,  2.5183,  3.1654,  1.0635,  4.5826,\n",
      "         1.9050,  2.7777,  2.5278,  5.2212,  4.6836,  4.0635,  5.3824,  3.7673,\n",
      "        -0.5406,  4.0735,  2.6532,  3.7840,  2.7444,  0.1742,  2.0202,  4.9920,\n",
      "         1.5056,  2.5759,  3.7132,  3.8764,  5.0151,  4.6158,  2.7759,  4.3476,\n",
      "         4.1491,  4.0125,  5.3803,  1.2441, -0.8776,  0.6744,  4.2997,  2.8566,\n",
      "         3.2157,  5.8529,  3.2682, -0.7949,  4.6902,  4.2847,  3.0222,  4.7143])\n",
      "SIGMOID:  tensor([], size=(0, 15))\n"
     ]
    },
    {
     "ename": "RuntimeError",
     "evalue": "The size of tensor a (15) must match the size of tensor b (64) at non-singleton dimension 1",
     "output_type": "error",
     "traceback": [
      "\u001b[1;31m---------------------------------------------------------------------------\u001b[0m",
      "\u001b[1;31mRuntimeError\u001b[0m                              Traceback (most recent call last)",
      "Cell \u001b[1;32mIn[148], line 39\u001b[0m\n\u001b[0;32m     37\u001b[0m \u001b[38;5;66;03m# Evaluate object presence accuracy\u001b[39;00m\n\u001b[0;32m     38\u001b[0m predicted_presence \u001b[38;5;241m=\u001b[39m torch\u001b[38;5;241m.\u001b[39msigmoid(outputs[: \u001b[38;5;241m0\u001b[39m])\u001b[38;5;241m.\u001b[39mdata \u001b[38;5;241m>\u001b[39m \u001b[38;5;241m0.5\u001b[39m  \u001b[38;5;66;03m# Assuming sigmoid output\u001b[39;00m\n\u001b[1;32m---> 39\u001b[0m object_presence_correct_predictions \u001b[38;5;241m+\u001b[39m\u001b[38;5;241m=\u001b[39m (predicted_presence \u001b[38;5;241m==\u001b[39m presence_labels)\u001b[38;5;241m.\u001b[39msum()\u001b[38;5;241m.\u001b[39mitem()\n\u001b[0;32m     41\u001b[0m \u001b[38;5;66;03m# Evaluate bounding box accuracy using IoU or similar\u001b[39;00m\n\u001b[0;32m     42\u001b[0m iou_scores \u001b[38;5;241m=\u001b[39m calculate_iou(outputs[:, \u001b[38;5;241m1\u001b[39m:\u001b[38;5;241m5\u001b[39m], bbox_labels)  \u001b[38;5;66;03m# Implement calculate_iou\u001b[39;00m\n",
      "\u001b[1;31mRuntimeError\u001b[0m: The size of tensor a (15) must match the size of tensor b (64) at non-singleton dimension 1"
     ]
    }
   ],
   "source": [
    "val_data\n",
    "val_loader\n",
    "\n",
    "performance = {}\n",
    "\n",
    "for i, model in enumerate(models):\n",
    "    model.eval()  # Ensure the model is in evaluation mode\n",
    "    total_loss = 0.0\n",
    "    classification_correct_predictions = 0\n",
    "    object_presence_correct_predictions = 0\n",
    "    total_iou = 0.0\n",
    "    total_predictions = 0\n",
    "\n",
    "    with torch.no_grad():\n",
    "        for input, labels in val_loader:\n",
    "            input = input.to(device)\n",
    "            # Assuming labels is a list or a custom object containing \n",
    "            # class labels, bounding boxes, and object presence\n",
    "            presence_labels = labels[:, 0].long().to(device)\n",
    "            bbox_labels = labels[:, 1:5].to(device)\n",
    "            class_labels = labels[:, 5].long().to(device)\n",
    "\n",
    "            outputs = model(input)  # Forward pass\n",
    "            \n",
    "            # Assuming outputs is a dict with keys 'classes', 'bboxes', and 'presence'\n",
    "            loss = loss_fn(outputs, labels)\n",
    "            total_loss += loss.item()\n",
    "\n",
    "            # Evaluate classification accuracy\n",
    "            _, predicted_classes = torch.max(outputs[:, 5:].data, 1)\n",
    "            classification_correct_predictions += (predicted_classes == class_labels).sum().item()\n",
    "            print(labels.shape)\n",
    "            print(labels[0].shape)\n",
    "            print(outputs[:, 0])\n",
    "            #sig = torch.sigmoid(outputs[: 0])\n",
    "            #print(\"SIGMOID: \", sig)\n",
    "            # Evaluate object presence accuracy\n",
    "            predicted_presence = torch.sigmoid(outputs[: 0]).data > 0.5  # Assuming sigmoid output\n",
    "            object_presence_correct_predictions += (predicted_presence == presence_labels).sum().item()\n",
    "\n",
    "            # Evaluate bounding box accuracy using IoU or similar\n",
    "            iou_scores = calculate_iou(outputs[:, 1:5], bbox_labels)  # Implement calculate_iou\n",
    "            total_iou += iou_scores.sum().item()\n",
    "            \n",
    "            total_predictions += class_labels.size(0)\n",
    "\n",
    "        avg_loss = total_loss / len(val_loader)\n",
    "        classification_accuracy = classification_correct_predictions / total_predictions\n",
    "        presence_accuracy = object_presence_correct_predictions / total_predictions\n",
    "        avg_iou = total_iou / total_predictions\n",
    "        \n",
    "        print(f\"Validation Loss: {avg_loss:.4f}, Classification Accuracy: {classification_accuracy:.4f}, \"\n",
    "            f\"Presence Accuracy: {presence_accuracy:.4f}, Average IoU: {avg_iou:.4f}\")\n",
    "\n",
    "\n",
    "\n",
    "# I sort by accuracy here.performance[i] = (avg_loss, accuracy)\n",
    "sorted_performance = sorted(performance.items(), key=lambda item: item[1][1], reverse=True)\n",
    "\n",
    "best_model = models[sorted_performance[0][0]] # I choose the model with the highest accuracy.\n",
    "\n"
   ]
  },
  {
   "cell_type": "code",
   "execution_count": 78,
   "metadata": {},
   "outputs": [
    {
     "name": "stdout",
     "output_type": "stream",
     "text": [
      "[5, 6, 7, 8, 9]\n"
     ]
    }
   ],
   "source": [
    "lis = list(range(10))\n",
    "print(lis[5:])"
   ]
  },
  {
   "cell_type": "markdown",
   "metadata": {},
   "source": [
    "### Best Model\n"
   ]
  },
  {
   "cell_type": "code",
   "execution_count": null,
   "metadata": {},
   "outputs": [],
   "source": [
    "best_model.eval()\n",
    "\n",
    "total_loss = 0\n",
    "correct_predictions = 0\n",
    "total_predictions = 0\n",
    "\n",
    "with torch.no_grad():\n",
    "    for input, labels in test_loader:\n",
    "\n",
    "        input = input.to(device)  \n",
    "        labels = labels.to(device)\n",
    "        \n",
    "        outputs = best_model(input)  #The forward pass\n",
    "        \n",
    "        loss = loss_fn(outputs, labels)\n",
    "        total_loss += loss.item()\n",
    "        \n",
    "        _, predicted = torch.max(outputs.data, 1)\n",
    "        total_predictions += labels.size(0)\n",
    "        correct_predictions += (predicted == labels).sum().item()\n",
    "\n",
    "    # Calculate average loss and total accuracy\n",
    "    avg_loss = total_loss / len(test_loader)\n",
    "    accuracy = correct_predictions / total_predictions\n",
    "    print(f\"Test Loss: {avg_loss:.4f}, Accuracy: {accuracy:.4f}\")"
   ]
  },
  {
   "cell_type": "code",
   "execution_count": 52,
   "metadata": {},
   "outputs": [
    {
     "name": "stdout",
     "output_type": "stream",
     "text": [
      "tensor([1.0000, 0.4000, 0.2188, 0.2667, 0.2292])\n"
     ]
    }
   ],
   "source": [
    "img, label = test_data[0]\n",
    "print(label[:-1])"
   ]
  },
  {
   "cell_type": "markdown",
   "metadata": {},
   "source": [
    "### Drawing boxes"
   ]
  },
  {
   "cell_type": "code",
   "execution_count": null,
   "metadata": {},
   "outputs": [],
   "source": [
    "from torchvision.transforms.functional import to_pil_image\n",
    "from PIL import ImageDraw\n",
    "\n",
    "img, label = test_data[0]\n",
    "\n",
    "img_pil = to_pil_image(img)\n",
    "\n",
    "outputs = best_model(img)\n",
    "Pc1, x1, y1, w1, h1 = label[:5]\n",
    "Pc2, x2, y2, w2, h2 = outputs[:5]\n",
    "\n",
    "bbox_true = (x1, y1, x1 + w1, y1 + h1)\n",
    "bbox_pred = (x2, y2, x2 + w2, y2 + h2)\n",
    "\n",
    "\n",
    "\n",
    "\n",
    "\n",
    "\n",
    "draw = ImageDraw.Draw(img_pil)\n",
    "draw.rectangle(bbox_true, outline=\"yellow\", width=3)\n",
    "draw.rectangle(bbox_pred, outline=\"red\", width=3)\n",
    "\n",
    "# Display the image\n",
    "img_pil.show()\n",
    "\n"
   ]
  },
  {
   "cell_type": "code",
   "execution_count": null,
   "metadata": {},
   "outputs": [],
   "source": []
  },
  {
   "cell_type": "code",
   "execution_count": null,
   "metadata": {},
   "outputs": [],
   "source": []
  },
  {
   "cell_type": "markdown",
   "metadata": {},
   "source": [
    "### Object detection tasks"
   ]
  },
  {
   "cell_type": "code",
   "execution_count": 102,
   "metadata": {},
   "outputs": [],
   "source": [
    "#train_path = 'data/list_y_true_train.pt'\n",
    "#val_path = 'data/list_y_tru_val.pt'\n",
    "#test_path = 'data/list_y_tru_test.pt'\n",
    "\n",
    "train_path = 'data/detection_train.pt'\n",
    "val_path = 'data/detection_val.pt'\n",
    "test_path = 'data/detection_test.pt'\n",
    "\n",
    "train_data = torch.load(train_path)\n",
    "val_data = torch.load(val_path)\n",
    "test_data = torch.load(test_path)\n",
    "\n",
    "batch_size = 64\n",
    "train_loader = torch.utils.data.DataLoader(train_data, batch_size=batch_size, shuffle=False)\n",
    "val_loader = torch.utils.data.DataLoader(val_data, batch_size=batch_size, shuffle=False)\n",
    "test_loader = torch.utils.data.DataLoader(test_data, batch_size=batch_size, shuffle=False)\n"
   ]
  },
  {
   "cell_type": "markdown",
   "metadata": {},
   "source": [
    "### Train"
   ]
  },
  {
   "cell_type": "code",
   "execution_count": 103,
   "metadata": {},
   "outputs": [],
   "source": [
    "class MyNewCNN1(nn.Module):\n",
    "    \n",
    "    def __init__(self):\n",
    "        super().__init__()\n",
    "\n",
    "        self.cnn = nn.Sequential(\n",
    "\n",
    "            # Conv layer block 1\n",
    "            nn.Conv2d(in_channels=1, out_channels=32, kernel_size=3, stride=1, padding=1),\n",
    "            nn.ReLU(),\n",
    "            nn.MaxPool2d(kernel_size=2, stride=2),\n",
    "            \n",
    "            # Replaced layers\n",
    "            nn.Conv2d(in_channels=32, out_channels=15, kernel_size=1, stride=1, padding=0)\n",
    "        )\n",
    "    \n",
    "    def forward(self, x):\n",
    "        return self.cnn(x)"
   ]
  },
  {
   "cell_type": "code",
   "execution_count": 104,
   "metadata": {},
   "outputs": [],
   "source": [
    "class MyNewCNN2(nn.Module):\n",
    "    \n",
    "    def __init__(self):\n",
    "        super().__init__()\n",
    "\n",
    "        self.cnn = nn.Sequential(\n",
    "\n",
    "            # Conv layer block 1\n",
    "            nn.Conv2d(in_channels=1, out_channels=32, kernel_size=5, stride=1, padding=2),\n",
    "            nn.ReLU(),\n",
    "            nn.MaxPool2d(kernel_size=2, stride=2),\n",
    "            \n",
    "            # Conv layer block 2\n",
    "            nn.Conv2d(in_channels=32, out_channels=64, kernel_size=3, stride=1, padding=1),\n",
    "            nn.ReLU(),\n",
    "            nn.MaxPool2d(kernel_size=2, stride=2),\n",
    "            \n",
    "            # Replaced layers\n",
    "            nn.Conv2d(in_channels=64, out_channels=15, kernel_size=1, stride=1, padding=0)\n",
    "        )\n",
    "    \n",
    "    def forward(self, x):\n",
    "        return self.cnn(x)"
   ]
  },
  {
   "cell_type": "code",
   "execution_count": 105,
   "metadata": {},
   "outputs": [],
   "source": [
    "class MyNewCNN3(nn.Module):\n",
    "    \n",
    "    def __init__(self):\n",
    "        super().__init__()\n",
    "\n",
    "        self.cnn = nn.Sequential(\n",
    "\n",
    "            # Conv layer block 1\n",
    "            nn.Conv2d(in_channels=1, out_channels=64, kernel_size=3, stride=1, padding=1),\n",
    "            nn.ReLU(),\n",
    "            nn.MaxPool2d(kernel_size=2, stride=2),\n",
    "            \n",
    "            # Conv layer block 2\n",
    "            nn.Conv2d(in_channels=64, out_channels=128, kernel_size=3, stride=1, padding=1),\n",
    "            nn.ReLU(),\n",
    "            nn.MaxPool2d(kernel_size=2, stride=2),\n",
    "\n",
    "            # Conv layer block 3\n",
    "            nn.Conv2d(in_channels=128, out_channels=256, kernel_size=3, stride=1, padding=1),\n",
    "            nn.ReLU(),\n",
    "            nn.MaxPool2d(kernel_size=2, stride=2),\n",
    "            \n",
    "            # Replaced layers\n",
    "            nn.Conv2d(in_channels=256, out_channels=15, kernel_size=1, stride=1, padding=0)\n",
    "        )\n",
    "    \n",
    "    def forward(self, x):\n",
    "        return self.cnn(x)"
   ]
  },
  {
   "cell_type": "code",
   "execution_count": null,
   "metadata": {},
   "outputs": [],
   "source": [
    "models = [MyNewCNN1(), MyNewCNN2(), MyNewCNN3()]\n",
    "\n",
    "lr = 0.005\n",
    "n_epochs = 5\n",
    "loss_fn = localization_loss\n",
    "\n",
    "for model in models:\n",
    "    print(\"----------------------------\")\n",
    "    print(\"Currently training: \", model)\n",
    "    print(\"----------------------------\")\n",
    "    train(model, loss_fn, lr, n_epochs, train_loader)\n",
    "\n",
    "    print(\"----------------------------\")\n",
    "    print(\"----------------------------\\n\\n\\n\")"
   ]
  },
  {
   "cell_type": "markdown",
   "metadata": {},
   "source": [
    "### Best Model"
   ]
  },
  {
   "cell_type": "code",
   "execution_count": null,
   "metadata": {},
   "outputs": [],
   "source": []
  },
  {
   "cell_type": "code",
   "execution_count": null,
   "metadata": {},
   "outputs": [],
   "source": []
  },
  {
   "cell_type": "markdown",
   "metadata": {},
   "source": [
    "#### Draw boxes"
   ]
  },
  {
   "cell_type": "code",
   "execution_count": null,
   "metadata": {},
   "outputs": [],
   "source": []
  },
  {
   "cell_type": "code",
   "execution_count": null,
   "metadata": {},
   "outputs": [],
   "source": []
  },
  {
   "cell_type": "code",
   "execution_count": null,
   "metadata": {},
   "outputs": [],
   "source": []
  },
  {
   "cell_type": "code",
   "execution_count": null,
   "metadata": {},
   "outputs": [],
   "source": []
  }
 ],
 "metadata": {
  "kernelspec": {
   "display_name": "JUPYTER",
   "language": "python",
   "name": "python3"
  },
  "language_info": {
   "codemirror_mode": {
    "name": "ipython",
    "version": 3
   },
   "file_extension": ".py",
   "mimetype": "text/x-python",
   "name": "python",
   "nbconvert_exporter": "python",
   "pygments_lexer": "ipython3",
   "version": "3.11.5"
  }
 },
 "nbformat": 4,
 "nbformat_minor": 2
}
